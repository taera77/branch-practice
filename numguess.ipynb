{
 "cells": [
  {
   "cell_type": "code",
   "execution_count": 2,
   "id": "1f05b49a",
   "metadata": {},
   "outputs": [
    {
     "name": "stdout",
     "output_type": "stream",
     "text": [
      "72\n",
      "Guess the number(1-100): 72\n",
      "That's correct!\n"
     ]
    }
   ],
   "source": [
    "from random import randint\n",
    "\n",
    "answer = randint(1,100)\n",
    "print(answer)\n",
    "\n",
    "guess = int(input(\"Guess the number(1-100): \"))\n",
    "\n",
    "while True:\n",
    "    if answer==guess:\n",
    "        print(\"That's correct!\")\n",
    "        break\n",
    "    elif answer>guess:\n",
    "        print(\"Up!\")\n",
    "    elif answer<guess:\n",
    "        print(\"Down!\")"
   ]
  },
  {
   "cell_type": "code",
   "execution_count": null,
   "id": "14b82ff1",
   "metadata": {},
   "outputs": [],
   "source": []
  },
  {
   "cell_type": "code",
   "execution_count": null,
   "id": "f927bd48",
   "metadata": {},
   "outputs": [],
   "source": []
  }
 ],
 "metadata": {
  "kernelspec": {
   "display_name": "Python 3 (ipykernel)",
   "language": "python",
   "name": "python3"
  },
  "language_info": {
   "codemirror_mode": {
    "name": "ipython",
    "version": 3
   },
   "file_extension": ".py",
   "mimetype": "text/x-python",
   "name": "python",
   "nbconvert_exporter": "python",
   "pygments_lexer": "ipython3",
   "version": "3.9.12"
  }
 },
 "nbformat": 4,
 "nbformat_minor": 5
}
